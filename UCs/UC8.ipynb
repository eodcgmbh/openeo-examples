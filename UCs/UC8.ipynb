{
 "cells": [
  {
   "cell_type": "code",
   "execution_count": 74,
   "id": "82f733f2-89a4-4165-a081-c3c9d52ecfcf",
   "metadata": {},
   "outputs": [],
   "source": [
    "import openeo\n",
    "from openeo.rest.datacube import PGNode, THIS\n",
    "from openeo.processes import *\n",
    "import math"
   ]
  },
  {
   "cell_type": "code",
   "execution_count": 75,
   "id": "9798bd9f-03cc-4255-b51c-03befd23da42",
   "metadata": {},
   "outputs": [
    {
     "name": "stdout",
     "output_type": "stream",
     "text": [
      "Authenticated using refresh token.\n"
     ]
    }
   ],
   "source": [
    "# backend = \"openeo.cloud\"\n",
    "backend = \"https://openeo-dev.eodc.eu/openeo/1.1.0/\"\n",
    "conn = openeo.connect(backend)\n",
    "conn = conn.authenticate_oidc()"
   ]
  },
  {
   "cell_type": "code",
   "execution_count": 83,
   "id": "50fb1bab-7887-4859-9399-3dd8273ba961",
   "metadata": {},
   "outputs": [],
   "source": [
    "def sig0_process(bbox = [3, 43, 17, 50], geom = None, temporal__extent = [\"2022-09-02\", \"2022-09-30\"]):\n",
    "    spatial_extent  = {'west':bbox[0],'east':bbox[2],'south':bbox[1],'north':bbox[3]}\n",
    "    collection      = 'SENTINEL1_SIG0_20M'\n",
    "    bands           = [\"VV\", \"VH\"]\n",
    "    properties = {\"sat:orbit_state\": lambda x: eq(x, \"ascending\")}\n",
    "\n",
    "    l2a = conn.load_collection(collection,spatial_extent=spatial_extent,bands=bands,temporal_extent=temporal_extent, properties=properties).reduce_dimension(dimension=\"time\", reducer=\"median\") # .add_dimension(name=\"t\", label=\"0\", type=\"temporal\")\n",
    "    \n",
    "    if not geom:\n",
    "        geom = l2a.process(\"load_vector_cube\", {\"URL\": \"https://raw.githubusercontent.com/openEOPlatform/SRR3_notebooks/main/notebooks/resources/UC8/vector_data/target_canopy_cover_60m_WGS84/target_canopy_cover_WGS84_60m.geojson\"})\n",
    "    l2a_agg = l2a.aggregate_spatial(geometries=geom, reducer=\"median\") \n",
    "    from openeo.rest.datacube import THIS\n",
    "\n",
    "    fit = l2a_agg.process(\"fit_regr_random_forest\", {\"predictors\": THIS, \"target\": geom, \"predictors_vars\": bands, \"target_var\": \"target_canopy_cover\"})\n",
    "    fit_saved = fit.save_result(format=\"GeoJSON\") \n",
    "    \n",
    "    return fit_saved "
   ]
  },
  {
   "cell_type": "code",
   "execution_count": 72,
   "id": "f2147c96-789d-4b19-8e57-8e3aafa1f53c",
   "metadata": {},
   "outputs": [],
   "source": [
    "def boa_process(bbox = [3, 43, 17, 50], geom = None, temporal_extent = [\"2020-02-02\", \"2020-02-28\"]):\n",
    "    spatial_extent  = {'west':bbox[0],'east':bbox[2],'south':bbox[1],'north':bbox[3]}\n",
    "    collection      = 'boa_sentinel_2'\n",
    "    bands           = [\"B02\", \"B03\", \"B04\"] \n",
    "\n",
    "    l2a = conn.load_collection(collection,spatial_extent=spatial_extent,bands=bands,temporal_extent=temporal_extent).reduce_dimension(dimension=\"t\", reducer=\"median\")\n",
    "    \n",
    "    if not geom:\n",
    "        geom = l2a.process(\"load_vector_cube\", {\"URL\": \"https://raw.githubusercontent.com/openEOPlatform/SRR3_notebooks/main/notebooks/resources/UC8/vector_data/target_canopy_cover_60m_WGS84/target_canopy_cover_WGS84_60m.geojson\"})\n",
    "    \n",
    "    \n",
    "    l2a_agg = l2a.aggregate_spatial(geometries=geom, reducer=\"median\")\n",
    "    from openeo.rest.datacube import THIS\n",
    "    fit = l2a_agg.process(\"fit_regr_random_forest\", {\"predictors\": THIS, \"target\": geom, \"predictors_vars\": bands, \"target_var\": \"target_canopy_cover\"})\n",
    "    fit_saved = fit.save_result(format=\"GeoJSON\")\n",
    "    \n",
    "    \n",
    "    return fit_saved"
   ]
  },
  {
   "cell_type": "code",
   "execution_count": 84,
   "id": "03a95d4a-b1db-49de-aaa9-7b8dff4056b5",
   "metadata": {},
   "outputs": [],
   "source": [
    "rf_sig0 = sig0_process(bbox, geom, temporal_extent)"
   ]
  },
  {
   "cell_type": "code",
   "execution_count": 86,
   "id": "46d0fc0c-b951-4274-a45e-fe891ddfeee8",
   "metadata": {},
   "outputs": [
    {
     "name": "stdout",
     "output_type": "stream",
     "text": [
      "Jobs submitted:  f0c0a364-d313-4dcd-9cd8-242dbcb15c02\n"
     ]
    }
   ],
   "source": [
    "job = rf_sig0.create_job(title = \"UC8-1\")\n",
    "jobId = job.job_id\n",
    "job.start_job()\n",
    "print(\"Jobs submitted: \", jobId)"
   ]
  },
  {
   "cell_type": "code",
   "execution_count": 88,
   "id": "a9f95c0c-3616-4906-9c9b-03f12ea50848",
   "metadata": {},
   "outputs": [
    {
     "data": {
      "text/html": [
       "\n",
       "    <script>\n",
       "    if (!window.customElements || !window.customElements.get('openeo-job')) {\n",
       "        var el = document.createElement('script');\n",
       "        el.src = \"https://cdn.jsdelivr.net/npm/@openeo/vue-components@2/assets/openeo.min.js\";\n",
       "        document.head.appendChild(el);\n",
       "\n",
       "        var font = document.createElement('font');\n",
       "        font.as = \"font\";\n",
       "        font.type = \"font/woff2\";\n",
       "        font.crossOrigin = true;\n",
       "        font.href = \"https://use.fontawesome.com/releases/v5.13.0/webfonts/fa-solid-900.woff2\"\n",
       "        document.head.appendChild(font);\n",
       "    }\n",
       "    </script>\n",
       "    <openeo-job>\n",
       "        <script type=\"application/json\">{\"currency\": \"credits\", \"job\": {\"id\": \"f0c0a364-d313-4dcd-9cd8-242dbcb15c02\", \"process\": {\"id\": \"30BDF1EF8FAC4492\", \"process_graph\": {\"loadcollection1\": {\"process_id\": \"load_collection\", \"arguments\": {\"bands\": [\"VV\", \"VH\"], \"id\": \"SENTINEL1_SIG0_20M\", \"properties\": {\"sat:orbit_state\": {\"process_graph\": {\"eq1\": {\"process_id\": \"eq\", \"arguments\": {\"x\": {\"from_parameter\": \"value\"}, \"y\": \"ascending\"}, \"result\": true}}}}, \"spatial_extent\": {\"west\": 14, \"east\": 16, \"south\": 46, \"north\": 48}, \"temporal_extent\": [\"2022-09-02\", \"2022-09-05\"]}}, \"reducedimension1\": {\"process_id\": \"reduce_dimension\", \"arguments\": {\"data\": {\"from_node\": \"loadcollection1\"}, \"dimension\": \"time\", \"reducer\": {\"process_graph\": {\"median1\": {\"process_id\": \"median\", \"arguments\": {\"data\": {\"from_parameter\": \"data\"}}, \"result\": true}}}}}, \"aggregatespatial1\": {\"process_id\": \"aggregate_spatial\", \"arguments\": {\"data\": {\"from_node\": \"reducedimension1\"}, \"geometries\": {\"type\": \"FeatureCollection\", \"features\": [{\"id\": \"0\", \"type\": \"Feature\", \"properties\": {\"id\": \"0\", \"target_canopy_cover\": 0.11403185169456265}, \"geometry\": {\"type\": \"Polygon\", \"coordinates\": [[[14.318870640690799, 46.54594462951764], [14.319644773249227, 46.546015201907956], [14.319545682524243, 46.546549383974885], [14.318771542283478, 46.546478810703704], [14.318870640690799, 46.54594462951764]]]}}, {\"id\": \"1\", \"type\": \"Feature\", \"properties\": {\"id\": \"1\", \"target_canopy_cover\": 0.0}, \"geometry\": {\"type\": \"Polygon\", \"coordinates\": [[[14.318969736590487, 46.545410448145596], [14.319743861466744, 46.54548101965504], [14.319644773249227, 46.546015201907956], [14.318870640690799, 46.54594462951764], [14.318969736590487, 46.545410448145596]]]}}]}, \"reducer\": {\"process_graph\": {\"median2\": {\"process_id\": \"median\", \"arguments\": {\"data\": {\"from_parameter\": \"data\"}}, \"result\": true}}}}}, \"fitregrrandomforest1\": {\"process_id\": \"fit_regr_random_forest\", \"arguments\": {\"predictors\": {\"from_node\": \"aggregatespatial1\"}, \"predictors_vars\": [\"VV\", \"VH\"], \"target\": {\"type\": \"FeatureCollection\", \"features\": [{\"id\": \"0\", \"type\": \"Feature\", \"properties\": {\"id\": \"0\", \"target_canopy_cover\": 0.11403185169456265}, \"geometry\": {\"type\": \"Polygon\", \"coordinates\": [[[14.318870640690799, 46.54594462951764], [14.319644773249227, 46.546015201907956], [14.319545682524243, 46.546549383974885], [14.318771542283478, 46.546478810703704], [14.318870640690799, 46.54594462951764]]]}}, {\"id\": \"1\", \"type\": \"Feature\", \"properties\": {\"id\": \"1\", \"target_canopy_cover\": 0.0}, \"geometry\": {\"type\": \"Polygon\", \"coordinates\": [[[14.318969736590487, 46.545410448145596], [14.319743861466744, 46.54548101965504], [14.319644773249227, 46.546015201907956], [14.318870640690799, 46.54594462951764], [14.318969736590487, 46.545410448145596]]]}}]}, \"target_var\": \"target_canopy_cover\"}}, \"saveresult1\": {\"process_id\": \"save_result\", \"arguments\": {\"data\": {\"from_node\": \"fitregrrandomforest1\"}, \"format\": \"GeoJSON\", \"options\": {}}, \"result\": true}}}, \"status\": \"finished\", \"created\": \"2024-01-10T14:01:07Z\"}}</script>\n",
       "    </openeo-job>\n",
       "    "
      ],
      "text/plain": [
       "<BatchJob job_id='f0c0a364-d313-4dcd-9cd8-242dbcb15c02'>"
      ]
     },
     "execution_count": 88,
     "metadata": {},
     "output_type": "execute_result"
    }
   ],
   "source": [
    "job"
   ]
  },
  {
   "cell_type": "code",
   "execution_count": null,
   "id": "54cf6ad1-4dee-42fd-94bf-cb897ca9b5d3",
   "metadata": {},
   "outputs": [],
   "source": []
  },
  {
   "cell_type": "code",
   "execution_count": 89,
   "id": "733cfd70-ed1a-4e24-8ecb-b68eab44b893",
   "metadata": {},
   "outputs": [],
   "source": [
    "def sig0_prediction(bbox = [14.3, 46.5, 14.4, 46.6]):\n",
    "    spatial_extent  = {'west':bbox[0],'east':bbox[2],'south':bbox[1],'north':bbox[3]}\n",
    "    temporal_extent = [\"2022-09-02\", \"2022-09-05\"]\n",
    "    collection      = 'SENTINEL1_SIG0_20M'\n",
    "    bands           = [\"VV\", \"VH\"]\n",
    "    properties = {\"sat:orbit_state\": lambda x: eq(x, \"ascending\")}\n",
    "\n",
    "    l2a = conn.load_collection(collection,spatial_extent=spatial_extent,bands=bands,temporal_extent=temporal_extent, properties=properties).reduce_dimension(dimension=\"time\", reducer=\"median\")\n",
    "\n",
    "    job_id = \"f0c0a364-d313-4dcd-9cd8-242dbcb15c02\"\n",
    "    model = conn.load_stac(url = f'{backend}/jobs/{job_id}/results')\n",
    "    predict = l2a.apply_dimension(\"predict_random_forest\", dimension = \"bands\", context = {\"model\": job_id})\n",
    "    predict_nc = predict.save_result(format=\"NetCDF\")\n",
    "    \n",
    "    return predict_nc"
   ]
  },
  {
   "cell_type": "code",
   "execution_count": 4,
   "id": "708fd5f8-753c-4253-abe7-b192fe45f8f9",
   "metadata": {},
   "outputs": [],
   "source": [
    "def prediction(bbox):\n",
    "    spatial_extent  = {'west':bbox[0],'east':bbox[2],'south':bbox[1],'north':bbox[3]}\n",
    "    temporal_extent = [\"2020-02-02\", \"2020-02-28\"] \n",
    "    collection      = 'boa_sentinel_2'\n",
    "    bands           = [\"B02\", \"B03\", \"B04\"] \n",
    "\n",
    "    l2a = conn.load_collection(collection,spatial_extent=spatial_extent,bands=bands,temporal_extent=temporal_extent).reduce_dimension(dimension=\"t\", reducer=\"median\") # .add_dimension(name=\"t\", label=\"0\", type=\"temporal\")\n",
    "    job_id = \"e3b51932-ee6e-436a-8973-6b449eb5ccd1\"\n",
    "    model = conn.load_stac(url = f'{backend}/jobs/{job_id}/results')\n",
    "    predict = l2a.apply_dimension(\"predict_random_forest\", dimension = \"bands\", context = {\"model\": job_id})\n",
    "    predict_nc = predict.save_result(format=\"NetCDF\")\n",
    "    \n",
    "    return predict_nc"
   ]
  },
  {
   "cell_type": "code",
   "execution_count": 90,
   "id": "fb7bcf25-8519-46bf-9cd2-770e43d5a0a5",
   "metadata": {},
   "outputs": [
    {
     "name": "stdout",
     "output_type": "stream",
     "text": [
      "Jobs submitted:  cc63c9dd-01d6-4200-af16-f93c5eac02d4\n"
     ]
    }
   ],
   "source": [
    "pg = sig0_prediction()\n",
    "\n",
    "job = pg.create_job(title = \"UC8-1\")\n",
    "jobId = job.job_id\n",
    "job.start_job()\n",
    "print(\"Jobs submitted: \", jobId)"
   ]
  },
  {
   "cell_type": "code",
   "execution_count": 52,
   "id": "0f629c22-b5fc-4ca7-8de0-0cffe722f5b7",
   "metadata": {},
   "outputs": [
    {
     "data": {
      "text/html": [
       "\n",
       "    <script>\n",
       "    if (!window.customElements || !window.customElements.get('openeo-job')) {\n",
       "        var el = document.createElement('script');\n",
       "        el.src = \"https://cdn.jsdelivr.net/npm/@openeo/vue-components@2/assets/openeo.min.js\";\n",
       "        document.head.appendChild(el);\n",
       "\n",
       "        var font = document.createElement('font');\n",
       "        font.as = \"font\";\n",
       "        font.type = \"font/woff2\";\n",
       "        font.crossOrigin = true;\n",
       "        font.href = \"https://use.fontawesome.com/releases/v5.13.0/webfonts/fa-solid-900.woff2\"\n",
       "        document.head.appendChild(font);\n",
       "    }\n",
       "    </script>\n",
       "    <openeo-job>\n",
       "        <script type=\"application/json\">{\"currency\": \"credits\", \"job\": {\"id\": \"644115fa-4a2a-4a9e-9cf5-06e8b4eda199\", \"process\": {\"id\": \"B6BDB2D7346145EA\", \"process_graph\": {\"loadcollection1\": {\"process_id\": \"load_collection\", \"arguments\": {\"bands\": [\"VV\", \"VH\"], \"id\": \"SENTINEL1_SIG0_20M\", \"properties\": {\"sat:orbit_state\": {\"process_graph\": {\"eq1\": {\"process_id\": \"eq\", \"arguments\": {\"x\": {\"from_parameter\": \"value\"}, \"y\": \"ascending\"}, \"result\": true}}}}, \"spatial_extent\": {\"west\": 10, \"east\": 10.1, \"south\": 46, \"north\": 46.1}, \"temporal_extent\": [\"2022-09-02\", \"2022-09-30\"]}}, \"reducedimension1\": {\"process_id\": \"reduce_dimension\", \"arguments\": {\"data\": {\"from_node\": \"loadcollection1\"}, \"dimension\": \"time\", \"reducer\": {\"process_graph\": {\"median1\": {\"process_id\": \"median\", \"arguments\": {\"data\": {\"from_parameter\": \"data\"}}, \"result\": true}}}}}, \"applydimension1\": {\"process_id\": \"apply_dimension\", \"arguments\": {\"context\": {\"model\": \"eb5c9f0b-7fb6-4099-9335-ed80ed1091be\"}, \"data\": {\"from_node\": \"reducedimension1\"}, \"dimension\": \"bands\", \"process\": {\"process_graph\": {\"predictrandomforest1\": {\"process_id\": \"predict_random_forest\", \"arguments\": {\"data\": {\"from_parameter\": \"data\"}}, \"result\": true}}}}}, \"saveresult1\": {\"process_id\": \"save_result\", \"arguments\": {\"data\": {\"from_node\": \"applydimension1\"}, \"format\": \"NetCDF\", \"options\": {}}, \"result\": true}}}, \"status\": \"queued\", \"created\": \"2024-01-10T13:15:03Z\"}}</script>\n",
       "    </openeo-job>\n",
       "    "
      ],
      "text/plain": [
       "<BatchJob job_id='644115fa-4a2a-4a9e-9cf5-06e8b4eda199'>"
      ]
     },
     "execution_count": 52,
     "metadata": {},
     "output_type": "execute_result"
    }
   ],
   "source": [
    "job"
   ]
  },
  {
   "cell_type": "code",
   "execution_count": 1,
   "id": "97ef2251-b2f8-4281-b3b7-cc90eece2ea1",
   "metadata": {},
   "outputs": [],
   "source": [
    "job.get_results().download_files(\"./UC8/\")"
   ]
  },
  {
   "cell_type": "code",
   "execution_count": null,
   "id": "c91a2982-d1d1-4d75-8da8-e28e89da6f20",
   "metadata": {},
   "outputs": [],
   "source": []
  }
 ],
 "metadata": {
  "kernelspec": {
   "display_name": "openEO Python Client",
   "language": "python",
   "name": "python3"
  },
  "language_info": {
   "codemirror_mode": {
    "name": "ipython",
    "version": 3
   },
   "file_extension": ".py",
   "mimetype": "text/x-python",
   "name": "python",
   "nbconvert_exporter": "python",
   "pygments_lexer": "ipython3",
   "version": "3.9.6"
  }
 },
 "nbformat": 4,
 "nbformat_minor": 5
}

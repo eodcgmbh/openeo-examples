{
 "cells": [
  {
   "cell_type": "code",
   "execution_count": 1,
   "metadata": {},
   "outputs": [],
   "source": [
    "import openeo\n",
    "from openeo.rest.datacube import PGNode, THIS\n",
    "from openeo.processes import *\n",
    "import math"
   ]
  },
  {
   "cell_type": "code",
   "execution_count": 7,
   "metadata": {},
   "outputs": [
    {
     "name": "stdout",
     "output_type": "stream",
     "text": [
      "Authenticated using refresh token.\n"
     ]
    }
   ],
   "source": [
    "backend = \"openeo.cloud\"\n",
    "conn = openeo.connect(backend)\n",
    "conn = conn.authenticate_oidc()"
   ]
  },
  {
   "cell_type": "code",
   "execution_count": 8,
   "metadata": {},
   "outputs": [],
   "source": [
    "def fit_process(bbox):\n",
    "    spatial_extent  = {'west':bbox[0],'east':bbox[2],'south':bbox[1],'north':bbox[3]}\n",
    "    temporal_extent = [\"2016-09-01\", \"2018-09-01\"] \n",
    "    collection      = 'SENTINEL1_SIG0_20M'  \n",
    "    bands           = [\"VV\", \"VH\"]\n",
    "    properties = {\"sat:orbit_state\": lambda x: eq(x, \"ascending\")}\n",
    "\n",
    "    sig0_data = conn.load_collection(collection,spatial_extent=spatial_extent,bands=bands,temporal_extent=temporal_extent, properties=properties)\n",
    "\n",
    "    def fitFunction(x, parameters):\n",
    "        t = 2 * math.pi / 31557600 * x\n",
    "        return parameters[0] + parameters[1] * cos(t) + parameters[2] * sin(t)\n",
    "\n",
    "    curve_fitting = sig0_data.fit_curve(\n",
    "        parameters=[1,1,1],\n",
    "        dimension=\"t\",\n",
    "        function=fitFunction\n",
    "    )\n",
    "    fitted_parameters = curve_fitting.save_result(format=\"NetCDF\")\n",
    "    return fitted_parameters"
   ]
  },
  {
   "cell_type": "code",
   "execution_count": 9,
   "metadata": {},
   "outputs": [],
   "source": [
    "bbox = [11.3, 46.3, 11.45, 46.35]"
   ]
  },
  {
   "cell_type": "code",
   "execution_count": 10,
   "metadata": {},
   "outputs": [
    {
     "name": "stderr",
     "output_type": "stream",
     "text": [
      "/home/vhutter/notebooks/.venv/lib/python3.10/site-packages/openeo/rest/connection.py:1176: UserWarning: SENTINEL1_SIG0_20M property filtering with properties that are undefined in the collection metadata (summaries): sat:orbit_state.\n",
      "  return DataCube.load_collection(\n"
     ]
    },
    {
     "data": {
      "text/html": [
       "\n",
       "    <script>\n",
       "    if (!window.customElements || !window.customElements.get('openeo-job')) {\n",
       "        var el = document.createElement('script');\n",
       "        el.src = \"https://cdn.jsdelivr.net/npm/@openeo/vue-components@2/assets/openeo.min.js\";\n",
       "        document.head.appendChild(el);\n",
       "\n",
       "        var font = document.createElement('font');\n",
       "        font.as = \"font\";\n",
       "        font.type = \"font/woff2\";\n",
       "        font.crossOrigin = true;\n",
       "        font.href = \"https://use.fontawesome.com/releases/v5.13.0/webfonts/fa-solid-900.woff2\"\n",
       "        document.head.appendChild(font);\n",
       "    }\n",
       "    </script>\n",
       "    <openeo-job>\n",
       "        <script type=\"application/json\">{\"currency\": \"credits\", \"job\": {\"id\": \"8a826758-0ae1-46db-bb54-e51d590f26db\", \"process\": {\"id\": \"F64E76805B234BD5\", \"process_graph\": {\"loadcollection1\": {\"process_id\": \"load_collection\", \"arguments\": {\"bands\": [\"VV\", \"VH\"], \"id\": \"SENTINEL1_SIG0_20M\", \"properties\": {\"sat:orbit_state\": {\"process_graph\": {\"eq1\": {\"process_id\": \"eq\", \"arguments\": {\"x\": {\"from_parameter\": \"value\"}, \"y\": \"ascending\"}, \"result\": true}}}}, \"spatial_extent\": {\"west\": 11.3, \"east\": 11.45, \"south\": 46.3, \"north\": 46.35}, \"temporal_extent\": [\"2016-09-01\", \"2018-09-01\"]}}, \"fitcurve1\": {\"process_id\": \"fit_curve\", \"arguments\": {\"data\": {\"from_node\": \"loadcollection1\"}, \"dimension\": \"time\", \"function\": {\"process_graph\": {\"arrayelement1\": {\"process_id\": \"array_element\", \"arguments\": {\"data\": {\"from_parameter\": \"parameters\"}, \"index\": 0}}, \"arrayelement2\": {\"process_id\": \"array_element\", \"arguments\": {\"data\": {\"from_parameter\": \"parameters\"}, \"index\": 1}}, \"multiply1\": {\"process_id\": \"multiply\", \"arguments\": {\"x\": 1.991021277657232e-07, \"y\": {\"from_parameter\": \"x\"}}}, \"cos1\": {\"process_id\": \"cos\", \"arguments\": {\"x\": {\"from_node\": \"multiply1\"}}}, \"multiply2\": {\"process_id\": \"multiply\", \"arguments\": {\"x\": {\"from_node\": \"arrayelement2\"}, \"y\": {\"from_node\": \"cos1\"}}}, \"add1\": {\"process_id\": \"add\", \"arguments\": {\"x\": {\"from_node\": \"arrayelement1\"}, \"y\": {\"from_node\": \"multiply2\"}}}, \"arrayelement3\": {\"process_id\": \"array_element\", \"arguments\": {\"data\": {\"from_parameter\": \"parameters\"}, \"index\": 2}}, \"sin1\": {\"process_id\": \"sin\", \"arguments\": {\"x\": {\"from_node\": \"multiply1\"}}}, \"multiply3\": {\"process_id\": \"multiply\", \"arguments\": {\"x\": {\"from_node\": \"arrayelement3\"}, \"y\": {\"from_node\": \"sin1\"}}}, \"add2\": {\"process_id\": \"add\", \"arguments\": {\"x\": {\"from_node\": \"add1\"}, \"y\": {\"from_node\": \"multiply3\"}}, \"result\": true}}}, \"parameters\": [1, 1, 1]}}, \"saveresult1\": {\"process_id\": \"save_result\", \"arguments\": {\"data\": {\"from_node\": \"fitcurve1\"}, \"format\": \"NetCDF\", \"options\": {}}, \"result\": true}}}, \"status\": \"queued\", \"created\": \"2024-01-12T09:56:00Z\"}}</script>\n",
       "    </openeo-job>\n",
       "    "
      ],
      "text/plain": [
       "<BatchJob job_id='8a826758-0ae1-46db-bb54-e51d590f26db'>"
      ]
     },
     "execution_count": 10,
     "metadata": {},
     "output_type": "execute_result"
    }
   ],
   "source": [
    "data = fit_process(bbox = bbox)\n",
    "\n",
    "job = data.create_job(title = \"UC6-1\")\n",
    "job_id = job.job_id\n",
    "job.start_job()"
   ]
  },
  {
   "cell_type": "code",
   "execution_count": 11,
   "metadata": {},
   "outputs": [
    {
     "data": {
      "text/html": [
       "\n",
       "    <script>\n",
       "    if (!window.customElements || !window.customElements.get('openeo-job')) {\n",
       "        var el = document.createElement('script');\n",
       "        el.src = \"https://cdn.jsdelivr.net/npm/@openeo/vue-components@2/assets/openeo.min.js\";\n",
       "        document.head.appendChild(el);\n",
       "\n",
       "        var font = document.createElement('font');\n",
       "        font.as = \"font\";\n",
       "        font.type = \"font/woff2\";\n",
       "        font.crossOrigin = true;\n",
       "        font.href = \"https://use.fontawesome.com/releases/v5.13.0/webfonts/fa-solid-900.woff2\"\n",
       "        document.head.appendChild(font);\n",
       "    }\n",
       "    </script>\n",
       "    <openeo-job>\n",
       "        <script type=\"application/json\">{\"currency\": \"credits\", \"job\": {\"id\": \"8a826758-0ae1-46db-bb54-e51d590f26db\", \"process\": {\"id\": \"F64E76805B234BD5\", \"process_graph\": {\"loadcollection1\": {\"process_id\": \"load_collection\", \"arguments\": {\"bands\": [\"VV\", \"VH\"], \"id\": \"SENTINEL1_SIG0_20M\", \"properties\": {\"sat:orbit_state\": {\"process_graph\": {\"eq1\": {\"process_id\": \"eq\", \"arguments\": {\"x\": {\"from_parameter\": \"value\"}, \"y\": \"ascending\"}, \"result\": true}}}}, \"spatial_extent\": {\"west\": 11.3, \"east\": 11.45, \"south\": 46.3, \"north\": 46.35}, \"temporal_extent\": [\"2016-09-01\", \"2018-09-01\"]}}, \"fitcurve1\": {\"process_id\": \"fit_curve\", \"arguments\": {\"data\": {\"from_node\": \"loadcollection1\"}, \"dimension\": \"time\", \"function\": {\"process_graph\": {\"arrayelement1\": {\"process_id\": \"array_element\", \"arguments\": {\"data\": {\"from_parameter\": \"parameters\"}, \"index\": 0}}, \"arrayelement2\": {\"process_id\": \"array_element\", \"arguments\": {\"data\": {\"from_parameter\": \"parameters\"}, \"index\": 1}}, \"multiply1\": {\"process_id\": \"multiply\", \"arguments\": {\"x\": 1.991021277657232e-07, \"y\": {\"from_parameter\": \"x\"}}}, \"cos1\": {\"process_id\": \"cos\", \"arguments\": {\"x\": {\"from_node\": \"multiply1\"}}}, \"multiply2\": {\"process_id\": \"multiply\", \"arguments\": {\"x\": {\"from_node\": \"arrayelement2\"}, \"y\": {\"from_node\": \"cos1\"}}}, \"add1\": {\"process_id\": \"add\", \"arguments\": {\"x\": {\"from_node\": \"arrayelement1\"}, \"y\": {\"from_node\": \"multiply2\"}}}, \"arrayelement3\": {\"process_id\": \"array_element\", \"arguments\": {\"data\": {\"from_parameter\": \"parameters\"}, \"index\": 2}}, \"sin1\": {\"process_id\": \"sin\", \"arguments\": {\"x\": {\"from_node\": \"multiply1\"}}}, \"multiply3\": {\"process_id\": \"multiply\", \"arguments\": {\"x\": {\"from_node\": \"arrayelement3\"}, \"y\": {\"from_node\": \"sin1\"}}}, \"add2\": {\"process_id\": \"add\", \"arguments\": {\"x\": {\"from_node\": \"add1\"}, \"y\": {\"from_node\": \"multiply3\"}}, \"result\": true}}}, \"parameters\": [1, 1, 1]}}, \"saveresult1\": {\"process_id\": \"save_result\", \"arguments\": {\"data\": {\"from_node\": \"fitcurve1\"}, \"format\": \"NetCDF\", \"options\": {}}, \"result\": true}}}, \"status\": \"finished\", \"created\": \"2024-01-12T09:56:00Z\"}}</script>\n",
       "    </openeo-job>\n",
       "    "
      ],
      "text/plain": [
       "<BatchJob job_id='8a826758-0ae1-46db-bb54-e51d590f26db'>"
      ]
     },
     "execution_count": 11,
     "metadata": {},
     "output_type": "execute_result"
    }
   ],
   "source": [
    "job"
   ]
  },
  {
   "cell_type": "code",
   "execution_count": 12,
   "metadata": {},
   "outputs": [],
   "source": [
    "def change_detection_process(job_id, bbox):\n",
    "    spatial_extent  = {'west':bbox[0],'east':bbox[2],'south':bbox[1],'north':bbox[3]}\n",
    "    temporal_extent = [\"2016-09-01\", \"2018-09-01\"] \n",
    "    collection      = 'SENTINEL1_SIG0_20M'  \n",
    "    bands           = [\"VV\", \"VH\"]\n",
    "    properties = {\"sat:orbit_state\": lambda x: eq(x, \"ascending\")}\n",
    "\n",
    "    sig0_data = conn.load_collection(collection,spatial_extent=spatial_extent,bands=bands,temporal_extent=temporal_extent, properties=properties)\n",
    "    \n",
    "    def fitFunction(x, parameters):\n",
    "        t = 2 * math.pi / 31557600 * x\n",
    "        return parameters[0] + parameters[1] * cos(t) + parameters[2] * sin(t)\n",
    "    \n",
    "    \n",
    "    curve_fitting_loaded = conn.load_stac(url = f'{backend}/jobs/{job_id}/results')\n",
    "    \n",
    "    temporal_labels =  sig0_data.dimension_labels('t')\n",
    "    curve_prediction = curve_fitting_loaded.predict_curve(parameters= curve_fitting_loaded, dimension= 't', function= fitFunction, labels= temporal_labels)\n",
    "    \n",
    "    merged_cubes = sig0_data.merge_cubes(curve_prediction,overlap_resolver=subtract)\n",
    "    \n",
    "    mse = merged_cubes.band(\"VV\")**2 + merged_cubes.band(\"VH\")**2 \n",
    "    rmse = (mse/len(bands))**0.5\n",
    "    \n",
    "    rmse_std = rmse.reduce_dimension(dimension='t',reducer=sd)\n",
    "    \n",
    "    rmse_std_netcdf = rmse_std.save_result(format=\"NetCDF\")\n",
    "    return rmse_std_netcdf"
   ]
  },
  {
   "cell_type": "code",
   "execution_count": 13,
   "metadata": {},
   "outputs": [
    {
     "data": {
      "text/html": [
       "\n",
       "    <script>\n",
       "    if (!window.customElements || !window.customElements.get('openeo-job')) {\n",
       "        var el = document.createElement('script');\n",
       "        el.src = \"https://cdn.jsdelivr.net/npm/@openeo/vue-components@2/assets/openeo.min.js\";\n",
       "        document.head.appendChild(el);\n",
       "\n",
       "        var font = document.createElement('font');\n",
       "        font.as = \"font\";\n",
       "        font.type = \"font/woff2\";\n",
       "        font.crossOrigin = true;\n",
       "        font.href = \"https://use.fontawesome.com/releases/v5.13.0/webfonts/fa-solid-900.woff2\"\n",
       "        document.head.appendChild(font);\n",
       "    }\n",
       "    </script>\n",
       "    <openeo-job>\n",
       "        <script type=\"application/json\">{\"currency\": \"credits\", \"job\": {\"id\": \"51dd0353-1b61-462c-b6dd-bc61635b8322\", \"process\": {\"id\": \"34648D44F2274ACC\", \"process_graph\": {\"loadcollection1\": {\"process_id\": \"load_collection\", \"arguments\": {\"bands\": [\"VV\", \"VH\"], \"id\": \"SENTINEL1_SIG0_20M\", \"properties\": {\"sat:orbit_state\": {\"process_graph\": {\"eq1\": {\"process_id\": \"eq\", \"arguments\": {\"x\": {\"from_parameter\": \"value\"}, \"y\": \"ascending\"}, \"result\": true}}}}, \"spatial_extent\": {\"west\": 11.3, \"east\": 11.45, \"south\": 46.3, \"north\": 46.35}, \"temporal_extent\": [\"2016-09-01\", \"2018-09-01\"]}}, \"loadstac1\": {\"process_id\": \"load_stac\", \"arguments\": {\"url\": \"https://openeo.eodc.eu/openeo/1.1.0/jobs/8a826758-0ae1-46db-bb54-e51d590f26db/results\"}}, \"dimensionlabels1\": {\"process_id\": \"dimension_labels\", \"arguments\": {\"data\": {\"from_node\": \"loadcollection1\"}, \"dimension\": \"time\"}}, \"predictcurve1\": {\"process_id\": \"predict_curve\", \"arguments\": {\"data\": {\"from_node\": \"loadstac1\"}, \"dimension\": \"time\", \"function\": {\"process_graph\": {\"arrayelement1\": {\"process_id\": \"array_element\", \"arguments\": {\"data\": {\"from_parameter\": \"parameters\"}, \"index\": 0}}, \"arrayelement2\": {\"process_id\": \"array_element\", \"arguments\": {\"data\": {\"from_parameter\": \"parameters\"}, \"index\": 1}}, \"multiply1\": {\"process_id\": \"multiply\", \"arguments\": {\"x\": 1.991021277657232e-07, \"y\": {\"from_parameter\": \"x\"}}}, \"cos1\": {\"process_id\": \"cos\", \"arguments\": {\"x\": {\"from_node\": \"multiply1\"}}}, \"multiply2\": {\"process_id\": \"multiply\", \"arguments\": {\"x\": {\"from_node\": \"arrayelement2\"}, \"y\": {\"from_node\": \"cos1\"}}}, \"add1\": {\"process_id\": \"add\", \"arguments\": {\"x\": {\"from_node\": \"arrayelement1\"}, \"y\": {\"from_node\": \"multiply2\"}}}, \"arrayelement3\": {\"process_id\": \"array_element\", \"arguments\": {\"data\": {\"from_parameter\": \"parameters\"}, \"index\": 2}}, \"sin1\": {\"process_id\": \"sin\", \"arguments\": {\"x\": {\"from_node\": \"multiply1\"}}}, \"multiply3\": {\"process_id\": \"multiply\", \"arguments\": {\"x\": {\"from_node\": \"arrayelement3\"}, \"y\": {\"from_node\": \"sin1\"}}}, \"add2\": {\"process_id\": \"add\", \"arguments\": {\"x\": {\"from_node\": \"add1\"}, \"y\": {\"from_node\": \"multiply3\"}}, \"result\": true}}}, \"labels\": {\"from_node\": \"dimensionlabels1\"}, \"parameters\": {\"from_node\": \"loadstac1\"}}}, \"mergecubes1\": {\"process_id\": \"merge_cubes\", \"arguments\": {\"cube1\": {\"from_node\": \"loadcollection1\"}, \"cube2\": {\"from_node\": \"predictcurve1\"}, \"overlap_resolver\": {\"process_graph\": {\"subtract1\": {\"process_id\": \"subtract\", \"arguments\": {\"x\": {\"from_parameter\": \"x\"}, \"y\": {\"from_parameter\": \"y\"}}, \"result\": true}}}}}, \"reducedimension1\": {\"process_id\": \"reduce_dimension\", \"arguments\": {\"data\": {\"from_node\": \"mergecubes1\"}, \"dimension\": \"bands\", \"reducer\": {\"process_graph\": {\"arrayelement4\": {\"process_id\": \"array_element\", \"arguments\": {\"data\": {\"from_parameter\": \"data\"}, \"index\": 0}}, \"power1\": {\"process_id\": \"power\", \"arguments\": {\"base\": {\"from_node\": \"arrayelement4\"}, \"p\": 2}}, \"arrayelement5\": {\"process_id\": \"array_element\", \"arguments\": {\"data\": {\"from_parameter\": \"data\"}, \"index\": 1}}, \"power2\": {\"process_id\": \"power\", \"arguments\": {\"base\": {\"from_node\": \"arrayelement5\"}, \"p\": 2}}, \"add3\": {\"process_id\": \"add\", \"arguments\": {\"x\": {\"from_node\": \"power1\"}, \"y\": {\"from_node\": \"power2\"}}}, \"divide1\": {\"process_id\": \"divide\", \"arguments\": {\"x\": {\"from_node\": \"add3\"}, \"y\": 2}}, \"power3\": {\"process_id\": \"power\", \"arguments\": {\"base\": {\"from_node\": \"divide1\"}, \"p\": 0.5}, \"result\": true}}}}}, \"reducedimension2\": {\"process_id\": \"reduce_dimension\", \"arguments\": {\"data\": {\"from_node\": \"reducedimension1\"}, \"dimension\": \"time\", \"reducer\": {\"process_graph\": {\"sd1\": {\"process_id\": \"sd\", \"arguments\": {\"data\": {\"from_parameter\": \"data\"}}, \"result\": true}}}}}, \"saveresult1\": {\"process_id\": \"save_result\", \"arguments\": {\"data\": {\"from_node\": \"reducedimension2\"}, \"format\": \"NetCDF\", \"options\": {}}, \"result\": true}}}, \"status\": \"queued\", \"created\": \"2024-01-12T10:33:34Z\"}}</script>\n",
       "    </openeo-job>\n",
       "    "
      ],
      "text/plain": [
       "<BatchJob job_id='51dd0353-1b61-462c-b6dd-bc61635b8322'>"
      ]
     },
     "execution_count": 13,
     "metadata": {},
     "output_type": "execute_result"
    }
   ],
   "source": [
    "rmse_std_netcdf = change_detection_process(job_id, bbox)\n",
    "job = rmse_std_netcdf.create_job(title = \"UC6-2\")\n",
    "jobIdPrediction = job.job_id\n",
    "job.start_job()"
   ]
  },
  {
   "cell_type": "code",
   "execution_count": 14,
   "metadata": {},
   "outputs": [
    {
     "data": {
      "text/html": [
       "\n",
       "    <script>\n",
       "    if (!window.customElements || !window.customElements.get('openeo-job')) {\n",
       "        var el = document.createElement('script');\n",
       "        el.src = \"https://cdn.jsdelivr.net/npm/@openeo/vue-components@2/assets/openeo.min.js\";\n",
       "        document.head.appendChild(el);\n",
       "\n",
       "        var font = document.createElement('font');\n",
       "        font.as = \"font\";\n",
       "        font.type = \"font/woff2\";\n",
       "        font.crossOrigin = true;\n",
       "        font.href = \"https://use.fontawesome.com/releases/v5.13.0/webfonts/fa-solid-900.woff2\"\n",
       "        document.head.appendChild(font);\n",
       "    }\n",
       "    </script>\n",
       "    <openeo-job>\n",
       "        <script type=\"application/json\">{\"currency\": \"credits\", \"job\": {\"id\": \"51dd0353-1b61-462c-b6dd-bc61635b8322\", \"process\": {\"id\": \"34648D44F2274ACC\", \"process_graph\": {\"loadcollection1\": {\"process_id\": \"load_collection\", \"arguments\": {\"bands\": [\"VV\", \"VH\"], \"id\": \"SENTINEL1_SIG0_20M\", \"properties\": {\"sat:orbit_state\": {\"process_graph\": {\"eq1\": {\"process_id\": \"eq\", \"arguments\": {\"x\": {\"from_parameter\": \"value\"}, \"y\": \"ascending\"}, \"result\": true}}}}, \"spatial_extent\": {\"west\": 11.3, \"east\": 11.45, \"south\": 46.3, \"north\": 46.35}, \"temporal_extent\": [\"2016-09-01\", \"2018-09-01\"]}}, \"loadstac1\": {\"process_id\": \"load_stac\", \"arguments\": {\"url\": \"https://openeo.eodc.eu/openeo/1.1.0/jobs/8a826758-0ae1-46db-bb54-e51d590f26db/results\"}}, \"dimensionlabels1\": {\"process_id\": \"dimension_labels\", \"arguments\": {\"data\": {\"from_node\": \"loadcollection1\"}, \"dimension\": \"time\"}}, \"predictcurve1\": {\"process_id\": \"predict_curve\", \"arguments\": {\"data\": {\"from_node\": \"loadstac1\"}, \"dimension\": \"time\", \"function\": {\"process_graph\": {\"arrayelement1\": {\"process_id\": \"array_element\", \"arguments\": {\"data\": {\"from_parameter\": \"parameters\"}, \"index\": 0}}, \"arrayelement2\": {\"process_id\": \"array_element\", \"arguments\": {\"data\": {\"from_parameter\": \"parameters\"}, \"index\": 1}}, \"multiply1\": {\"process_id\": \"multiply\", \"arguments\": {\"x\": 1.991021277657232e-07, \"y\": {\"from_parameter\": \"x\"}}}, \"cos1\": {\"process_id\": \"cos\", \"arguments\": {\"x\": {\"from_node\": \"multiply1\"}}}, \"multiply2\": {\"process_id\": \"multiply\", \"arguments\": {\"x\": {\"from_node\": \"arrayelement2\"}, \"y\": {\"from_node\": \"cos1\"}}}, \"add1\": {\"process_id\": \"add\", \"arguments\": {\"x\": {\"from_node\": \"arrayelement1\"}, \"y\": {\"from_node\": \"multiply2\"}}}, \"arrayelement3\": {\"process_id\": \"array_element\", \"arguments\": {\"data\": {\"from_parameter\": \"parameters\"}, \"index\": 2}}, \"sin1\": {\"process_id\": \"sin\", \"arguments\": {\"x\": {\"from_node\": \"multiply1\"}}}, \"multiply3\": {\"process_id\": \"multiply\", \"arguments\": {\"x\": {\"from_node\": \"arrayelement3\"}, \"y\": {\"from_node\": \"sin1\"}}}, \"add2\": {\"process_id\": \"add\", \"arguments\": {\"x\": {\"from_node\": \"add1\"}, \"y\": {\"from_node\": \"multiply3\"}}, \"result\": true}}}, \"labels\": {\"from_node\": \"dimensionlabels1\"}, \"parameters\": {\"from_node\": \"loadstac1\"}}}, \"mergecubes1\": {\"process_id\": \"merge_cubes\", \"arguments\": {\"cube1\": {\"from_node\": \"loadcollection1\"}, \"cube2\": {\"from_node\": \"predictcurve1\"}, \"overlap_resolver\": {\"process_graph\": {\"subtract1\": {\"process_id\": \"subtract\", \"arguments\": {\"x\": {\"from_parameter\": \"x\"}, \"y\": {\"from_parameter\": \"y\"}}, \"result\": true}}}}}, \"reducedimension1\": {\"process_id\": \"reduce_dimension\", \"arguments\": {\"data\": {\"from_node\": \"mergecubes1\"}, \"dimension\": \"bands\", \"reducer\": {\"process_graph\": {\"arrayelement4\": {\"process_id\": \"array_element\", \"arguments\": {\"data\": {\"from_parameter\": \"data\"}, \"index\": 0}}, \"power1\": {\"process_id\": \"power\", \"arguments\": {\"base\": {\"from_node\": \"arrayelement4\"}, \"p\": 2}}, \"arrayelement5\": {\"process_id\": \"array_element\", \"arguments\": {\"data\": {\"from_parameter\": \"data\"}, \"index\": 1}}, \"power2\": {\"process_id\": \"power\", \"arguments\": {\"base\": {\"from_node\": \"arrayelement5\"}, \"p\": 2}}, \"add3\": {\"process_id\": \"add\", \"arguments\": {\"x\": {\"from_node\": \"power1\"}, \"y\": {\"from_node\": \"power2\"}}}, \"divide1\": {\"process_id\": \"divide\", \"arguments\": {\"x\": {\"from_node\": \"add3\"}, \"y\": 2}}, \"power3\": {\"process_id\": \"power\", \"arguments\": {\"base\": {\"from_node\": \"divide1\"}, \"p\": 0.5}, \"result\": true}}}}}, \"reducedimension2\": {\"process_id\": \"reduce_dimension\", \"arguments\": {\"data\": {\"from_node\": \"reducedimension1\"}, \"dimension\": \"time\", \"reducer\": {\"process_graph\": {\"sd1\": {\"process_id\": \"sd\", \"arguments\": {\"data\": {\"from_parameter\": \"data\"}}, \"result\": true}}}}}, \"saveresult1\": {\"process_id\": \"save_result\", \"arguments\": {\"data\": {\"from_node\": \"reducedimension2\"}, \"format\": \"NetCDF\", \"options\": {}}, \"result\": true}}}, \"status\": \"finished\", \"created\": \"2024-01-12T10:33:34Z\"}}</script>\n",
       "    </openeo-job>\n",
       "    "
      ],
      "text/plain": [
       "<BatchJob job_id='51dd0353-1b61-462c-b6dd-bc61635b8322'>"
      ]
     },
     "execution_count": 14,
     "metadata": {},
     "output_type": "execute_result"
    }
   ],
   "source": [
    "job"
   ]
  },
  {
   "cell_type": "code",
   "execution_count": null,
   "metadata": {},
   "outputs": [],
   "source": []
  },
  {
   "cell_type": "code",
   "execution_count": 15,
   "metadata": {},
   "outputs": [],
   "source": [
    "def change_detection_prediction_process(job_id, bbox, job_id_change_detection):\n",
    "    spatial_extent  = {'west':bbox[0],'east':bbox[2],'south':bbox[1],'north':bbox[3]}\n",
    "    temporal_extent = [\"2018-10-01\", \"2019-03-01\"] \n",
    "    collection      = 'SENTINEL1_SIG0_20M'  \n",
    "    bands           = [\"VV\", \"VH\"]\n",
    "    properties = {\"sat:orbit_state\": lambda x: eq(x, \"ascending\")}\n",
    "\n",
    "    sig0_data = conn.load_collection(collection,spatial_extent=spatial_extent,bands=bands,temporal_extent=temporal_extent, properties=properties)\n",
    "    \n",
    "    def fitFunction(x, parameters):\n",
    "        t = 2 * math.pi / 31557600 * x\n",
    "        return parameters[0] + parameters[1] * cos(t) + parameters[2] * sin(t)\n",
    "\n",
    "    curve_fitting_loaded = conn.load_stac(url = f'{backend}/jobs/{job_id}/results')\n",
    "    \n",
    "    temporal_labels =  sig0_data.dimension_labels('t')\n",
    "    curve_prediction_test = curve_fitting_loaded.predict_curve(parameters= curve_fitting_loaded, dimension= 't', function= fitFunction, labels= temporal_labels)\n",
    "\n",
    "    merged_cubes_test = sig0_data.merge_cubes(curve_prediction_test,overlap_resolver=subtract)\n",
    "    mse = merged_cubes_test.band(\"VV\")**2 + merged_cubes_test.band(\"VH\")**2 \n",
    "    rmse = (mse/len(bands))**0.5\n",
    "    \n",
    "    \n",
    "    training_std_loaded = conn.load_stac(url = f'{backend}/jobs/{job_id_change_detection}/results')\n",
    "    \n",
    "    alarm_threshhold = training_std_loaded.apply(lambda x: x * 3)\n",
    "    alarm_cubes = rmse.merge_cubes(alarm_threshhold,overlap_resolver=gt)\n",
    "    alarm_cubes_netcdf = alarm_cubes.save_result(format=\"NetCDF\", options={\"tile_grid\":\"time-series\"})\n",
    "    \n",
    "    return alarm_cubes_netcdf"
   ]
  },
  {
   "cell_type": "code",
   "execution_count": 16,
   "metadata": {},
   "outputs": [
    {
     "data": {
      "text/html": [
       "\n",
       "    <script>\n",
       "    if (!window.customElements || !window.customElements.get('openeo-job')) {\n",
       "        var el = document.createElement('script');\n",
       "        el.src = \"https://cdn.jsdelivr.net/npm/@openeo/vue-components@2/assets/openeo.min.js\";\n",
       "        document.head.appendChild(el);\n",
       "\n",
       "        var font = document.createElement('font');\n",
       "        font.as = \"font\";\n",
       "        font.type = \"font/woff2\";\n",
       "        font.crossOrigin = true;\n",
       "        font.href = \"https://use.fontawesome.com/releases/v5.13.0/webfonts/fa-solid-900.woff2\"\n",
       "        document.head.appendChild(font);\n",
       "    }\n",
       "    </script>\n",
       "    <openeo-job>\n",
       "        <script type=\"application/json\">{\"currency\": \"credits\", \"job\": {\"id\": \"275a02f4-603e-463e-90c5-e829f7a8d59f\", \"process\": {\"id\": \"85433449188548FE\", \"process_graph\": {\"loadcollection1\": {\"process_id\": \"load_collection\", \"arguments\": {\"bands\": [\"VV\", \"VH\"], \"id\": \"SENTINEL1_SIG0_20M\", \"properties\": {\"sat:orbit_state\": {\"process_graph\": {\"eq1\": {\"process_id\": \"eq\", \"arguments\": {\"x\": {\"from_parameter\": \"value\"}, \"y\": \"ascending\"}, \"result\": true}}}}, \"spatial_extent\": {\"west\": 11.3, \"east\": 11.45, \"south\": 46.3, \"north\": 46.35}, \"temporal_extent\": [\"2018-10-01\", \"2019-03-01\"]}}, \"loadstac1\": {\"process_id\": \"load_stac\", \"arguments\": {\"url\": \"https://openeo.eodc.eu/openeo/1.1.0/jobs/8a826758-0ae1-46db-bb54-e51d590f26db/results\"}}, \"dimensionlabels1\": {\"process_id\": \"dimension_labels\", \"arguments\": {\"data\": {\"from_node\": \"loadcollection1\"}, \"dimension\": \"time\"}}, \"predictcurve1\": {\"process_id\": \"predict_curve\", \"arguments\": {\"data\": {\"from_node\": \"loadstac1\"}, \"dimension\": \"time\", \"function\": {\"process_graph\": {\"arrayelement1\": {\"process_id\": \"array_element\", \"arguments\": {\"data\": {\"from_parameter\": \"parameters\"}, \"index\": 0}}, \"arrayelement2\": {\"process_id\": \"array_element\", \"arguments\": {\"data\": {\"from_parameter\": \"parameters\"}, \"index\": 1}}, \"multiply1\": {\"process_id\": \"multiply\", \"arguments\": {\"x\": 1.991021277657232e-07, \"y\": {\"from_parameter\": \"x\"}}}, \"cos1\": {\"process_id\": \"cos\", \"arguments\": {\"x\": {\"from_node\": \"multiply1\"}}}, \"multiply2\": {\"process_id\": \"multiply\", \"arguments\": {\"x\": {\"from_node\": \"arrayelement2\"}, \"y\": {\"from_node\": \"cos1\"}}}, \"add1\": {\"process_id\": \"add\", \"arguments\": {\"x\": {\"from_node\": \"arrayelement1\"}, \"y\": {\"from_node\": \"multiply2\"}}}, \"arrayelement3\": {\"process_id\": \"array_element\", \"arguments\": {\"data\": {\"from_parameter\": \"parameters\"}, \"index\": 2}}, \"sin1\": {\"process_id\": \"sin\", \"arguments\": {\"x\": {\"from_node\": \"multiply1\"}}}, \"multiply3\": {\"process_id\": \"multiply\", \"arguments\": {\"x\": {\"from_node\": \"arrayelement3\"}, \"y\": {\"from_node\": \"sin1\"}}}, \"add2\": {\"process_id\": \"add\", \"arguments\": {\"x\": {\"from_node\": \"add1\"}, \"y\": {\"from_node\": \"multiply3\"}}, \"result\": true}}}, \"labels\": {\"from_node\": \"dimensionlabels1\"}, \"parameters\": {\"from_node\": \"loadstac1\"}}}, \"mergecubes1\": {\"process_id\": \"merge_cubes\", \"arguments\": {\"cube1\": {\"from_node\": \"loadcollection1\"}, \"cube2\": {\"from_node\": \"predictcurve1\"}, \"overlap_resolver\": {\"process_graph\": {\"subtract1\": {\"process_id\": \"subtract\", \"arguments\": {\"x\": {\"from_parameter\": \"x\"}, \"y\": {\"from_parameter\": \"y\"}}, \"result\": true}}}}}, \"reducedimension1\": {\"process_id\": \"reduce_dimension\", \"arguments\": {\"data\": {\"from_node\": \"mergecubes1\"}, \"dimension\": \"bands\", \"reducer\": {\"process_graph\": {\"arrayelement4\": {\"process_id\": \"array_element\", \"arguments\": {\"data\": {\"from_parameter\": \"data\"}, \"index\": 0}}, \"power1\": {\"process_id\": \"power\", \"arguments\": {\"base\": {\"from_node\": \"arrayelement4\"}, \"p\": 2}}, \"arrayelement5\": {\"process_id\": \"array_element\", \"arguments\": {\"data\": {\"from_parameter\": \"data\"}, \"index\": 1}}, \"power2\": {\"process_id\": \"power\", \"arguments\": {\"base\": {\"from_node\": \"arrayelement5\"}, \"p\": 2}}, \"add3\": {\"process_id\": \"add\", \"arguments\": {\"x\": {\"from_node\": \"power1\"}, \"y\": {\"from_node\": \"power2\"}}}, \"divide1\": {\"process_id\": \"divide\", \"arguments\": {\"x\": {\"from_node\": \"add3\"}, \"y\": 2}}, \"power3\": {\"process_id\": \"power\", \"arguments\": {\"base\": {\"from_node\": \"divide1\"}, \"p\": 0.5}, \"result\": true}}}}}, \"loadstac2\": {\"process_id\": \"load_stac\", \"arguments\": {\"url\": \"https://openeo.eodc.eu/openeo/1.1.0/jobs/51dd0353-1b61-462c-b6dd-bc61635b8322/results\"}}, \"apply1\": {\"process_id\": \"apply\", \"arguments\": {\"data\": {\"from_node\": \"loadstac2\"}, \"process\": {\"process_graph\": {\"multiply4\": {\"process_id\": \"multiply\", \"arguments\": {\"x\": {\"from_parameter\": \"x\"}, \"y\": 3}, \"result\": true}}}}}, \"mergecubes2\": {\"process_id\": \"merge_cubes\", \"arguments\": {\"cube1\": {\"from_node\": \"reducedimension1\"}, \"cube2\": {\"from_node\": \"apply1\"}, \"overlap_resolver\": {\"process_graph\": {\"gt1\": {\"process_id\": \"gt\", \"arguments\": {\"x\": {\"from_parameter\": \"x\"}, \"y\": {\"from_parameter\": \"y\"}}, \"result\": true}}}}}, \"saveresult1\": {\"process_id\": \"save_result\", \"arguments\": {\"data\": {\"from_node\": \"mergecubes2\"}, \"format\": \"NetCDF\", \"options\": {\"tile_grid\": \"time-series\"}}, \"result\": true}}}, \"status\": \"queued\", \"created\": \"2024-01-12T10:57:01Z\"}}</script>\n",
       "    </openeo-job>\n",
       "    "
      ],
      "text/plain": [
       "<BatchJob job_id='275a02f4-603e-463e-90c5-e829f7a8d59f'>"
      ]
     },
     "execution_count": 16,
     "metadata": {},
     "output_type": "execute_result"
    }
   ],
   "source": [
    "alarm_cubes_netcdf = change_detection_prediction_process(job_id, bbox, jobIdPrediction)\n",
    "\n",
    "job = alarm_cubes_netcdf.create_job(title = \"UC6-3\")\n",
    "jobIdAlarms = job.job_id\n",
    "job.start_job()"
   ]
  },
  {
   "cell_type": "code",
   "execution_count": 17,
   "metadata": {},
   "outputs": [
    {
     "data": {
      "text/html": [
       "\n",
       "    <script>\n",
       "    if (!window.customElements || !window.customElements.get('openeo-job')) {\n",
       "        var el = document.createElement('script');\n",
       "        el.src = \"https://cdn.jsdelivr.net/npm/@openeo/vue-components@2/assets/openeo.min.js\";\n",
       "        document.head.appendChild(el);\n",
       "\n",
       "        var font = document.createElement('font');\n",
       "        font.as = \"font\";\n",
       "        font.type = \"font/woff2\";\n",
       "        font.crossOrigin = true;\n",
       "        font.href = \"https://use.fontawesome.com/releases/v5.13.0/webfonts/fa-solid-900.woff2\"\n",
       "        document.head.appendChild(font);\n",
       "    }\n",
       "    </script>\n",
       "    <openeo-job>\n",
       "        <script type=\"application/json\">{\"currency\": \"credits\", \"job\": {\"id\": \"275a02f4-603e-463e-90c5-e829f7a8d59f\", \"process\": {\"id\": \"85433449188548FE\", \"process_graph\": {\"loadcollection1\": {\"process_id\": \"load_collection\", \"arguments\": {\"bands\": [\"VV\", \"VH\"], \"id\": \"SENTINEL1_SIG0_20M\", \"properties\": {\"sat:orbit_state\": {\"process_graph\": {\"eq1\": {\"process_id\": \"eq\", \"arguments\": {\"x\": {\"from_parameter\": \"value\"}, \"y\": \"ascending\"}, \"result\": true}}}}, \"spatial_extent\": {\"west\": 11.3, \"east\": 11.45, \"south\": 46.3, \"north\": 46.35}, \"temporal_extent\": [\"2018-10-01\", \"2019-03-01\"]}}, \"loadstac1\": {\"process_id\": \"load_stac\", \"arguments\": {\"url\": \"https://openeo.eodc.eu/openeo/1.1.0/jobs/8a826758-0ae1-46db-bb54-e51d590f26db/results\"}}, \"dimensionlabels1\": {\"process_id\": \"dimension_labels\", \"arguments\": {\"data\": {\"from_node\": \"loadcollection1\"}, \"dimension\": \"time\"}}, \"predictcurve1\": {\"process_id\": \"predict_curve\", \"arguments\": {\"data\": {\"from_node\": \"loadstac1\"}, \"dimension\": \"time\", \"function\": {\"process_graph\": {\"arrayelement1\": {\"process_id\": \"array_element\", \"arguments\": {\"data\": {\"from_parameter\": \"parameters\"}, \"index\": 0}}, \"arrayelement2\": {\"process_id\": \"array_element\", \"arguments\": {\"data\": {\"from_parameter\": \"parameters\"}, \"index\": 1}}, \"multiply1\": {\"process_id\": \"multiply\", \"arguments\": {\"x\": 1.991021277657232e-07, \"y\": {\"from_parameter\": \"x\"}}}, \"cos1\": {\"process_id\": \"cos\", \"arguments\": {\"x\": {\"from_node\": \"multiply1\"}}}, \"multiply2\": {\"process_id\": \"multiply\", \"arguments\": {\"x\": {\"from_node\": \"arrayelement2\"}, \"y\": {\"from_node\": \"cos1\"}}}, \"add1\": {\"process_id\": \"add\", \"arguments\": {\"x\": {\"from_node\": \"arrayelement1\"}, \"y\": {\"from_node\": \"multiply2\"}}}, \"arrayelement3\": {\"process_id\": \"array_element\", \"arguments\": {\"data\": {\"from_parameter\": \"parameters\"}, \"index\": 2}}, \"sin1\": {\"process_id\": \"sin\", \"arguments\": {\"x\": {\"from_node\": \"multiply1\"}}}, \"multiply3\": {\"process_id\": \"multiply\", \"arguments\": {\"x\": {\"from_node\": \"arrayelement3\"}, \"y\": {\"from_node\": \"sin1\"}}}, \"add2\": {\"process_id\": \"add\", \"arguments\": {\"x\": {\"from_node\": \"add1\"}, \"y\": {\"from_node\": \"multiply3\"}}, \"result\": true}}}, \"labels\": {\"from_node\": \"dimensionlabels1\"}, \"parameters\": {\"from_node\": \"loadstac1\"}}}, \"mergecubes1\": {\"process_id\": \"merge_cubes\", \"arguments\": {\"cube1\": {\"from_node\": \"loadcollection1\"}, \"cube2\": {\"from_node\": \"predictcurve1\"}, \"overlap_resolver\": {\"process_graph\": {\"subtract1\": {\"process_id\": \"subtract\", \"arguments\": {\"x\": {\"from_parameter\": \"x\"}, \"y\": {\"from_parameter\": \"y\"}}, \"result\": true}}}}}, \"reducedimension1\": {\"process_id\": \"reduce_dimension\", \"arguments\": {\"data\": {\"from_node\": \"mergecubes1\"}, \"dimension\": \"bands\", \"reducer\": {\"process_graph\": {\"arrayelement4\": {\"process_id\": \"array_element\", \"arguments\": {\"data\": {\"from_parameter\": \"data\"}, \"index\": 0}}, \"power1\": {\"process_id\": \"power\", \"arguments\": {\"base\": {\"from_node\": \"arrayelement4\"}, \"p\": 2}}, \"arrayelement5\": {\"process_id\": \"array_element\", \"arguments\": {\"data\": {\"from_parameter\": \"data\"}, \"index\": 1}}, \"power2\": {\"process_id\": \"power\", \"arguments\": {\"base\": {\"from_node\": \"arrayelement5\"}, \"p\": 2}}, \"add3\": {\"process_id\": \"add\", \"arguments\": {\"x\": {\"from_node\": \"power1\"}, \"y\": {\"from_node\": \"power2\"}}}, \"divide1\": {\"process_id\": \"divide\", \"arguments\": {\"x\": {\"from_node\": \"add3\"}, \"y\": 2}}, \"power3\": {\"process_id\": \"power\", \"arguments\": {\"base\": {\"from_node\": \"divide1\"}, \"p\": 0.5}, \"result\": true}}}}}, \"loadstac2\": {\"process_id\": \"load_stac\", \"arguments\": {\"url\": \"https://openeo.eodc.eu/openeo/1.1.0/jobs/51dd0353-1b61-462c-b6dd-bc61635b8322/results\"}}, \"apply1\": {\"process_id\": \"apply\", \"arguments\": {\"data\": {\"from_node\": \"loadstac2\"}, \"process\": {\"process_graph\": {\"multiply4\": {\"process_id\": \"multiply\", \"arguments\": {\"x\": {\"from_parameter\": \"x\"}, \"y\": 3}, \"result\": true}}}}}, \"mergecubes2\": {\"process_id\": \"merge_cubes\", \"arguments\": {\"cube1\": {\"from_node\": \"reducedimension1\"}, \"cube2\": {\"from_node\": \"apply1\"}, \"overlap_resolver\": {\"process_graph\": {\"gt1\": {\"process_id\": \"gt\", \"arguments\": {\"x\": {\"from_parameter\": \"x\"}, \"y\": {\"from_parameter\": \"y\"}}, \"result\": true}}}}}, \"saveresult1\": {\"process_id\": \"save_result\", \"arguments\": {\"data\": {\"from_node\": \"mergecubes2\"}, \"format\": \"NetCDF\", \"options\": {\"tile_grid\": \"time-series\"}}, \"result\": true}}}, \"status\": \"finished\", \"created\": \"2024-01-12T10:57:01Z\"}}</script>\n",
       "    </openeo-job>\n",
       "    "
      ],
      "text/plain": [
       "<BatchJob job_id='275a02f4-603e-463e-90c5-e829f7a8d59f'>"
      ]
     },
     "execution_count": 17,
     "metadata": {},
     "output_type": "execute_result"
    }
   ],
   "source": [
    "job"
   ]
  },
  {
   "cell_type": "code",
   "execution_count": 18,
   "metadata": {},
   "outputs": [
    {
     "data": {
      "text/plain": [
       "[PosixPath('uc6_sig0/TimeSeries_E4861310N1465910_20181004T170656.nc'),\n",
       " PosixPath('uc6_sig0/job-results.json')]"
      ]
     },
     "execution_count": 18,
     "metadata": {},
     "output_type": "execute_result"
    }
   ],
   "source": [
    "results = job.get_results()\n",
    "metadata = results.get_metadata()\n",
    "results.download_files(\"./uc6_sig0/\")"
   ]
  },
  {
   "cell_type": "code",
   "execution_count": null,
   "metadata": {},
   "outputs": [],
   "source": []
  }
 ],
 "metadata": {
  "kernelspec": {
   "display_name": "openEO Python Client",
   "language": "python",
   "name": "python3"
  },
  "language_info": {
   "codemirror_mode": {
    "name": "ipython",
    "version": 3
   },
   "file_extension": ".py",
   "mimetype": "text/x-python",
   "name": "python",
   "nbconvert_exporter": "python",
   "pygments_lexer": "ipython3",
   "version": "3.9.6"
  }
 },
 "nbformat": 4,
 "nbformat_minor": 4
}

{
 "cells": [
  {
   "cell_type": "markdown",
   "metadata": {},
   "source": [
    "### UC2 - Vessel Detection\n",
    "\n",
    "A notebook for triggering the vessel detection process at EODC and visualising the processing results at EODC."
   ]
  },
  {
   "cell_type": "code",
   "execution_count": null,
   "metadata": {},
   "outputs": [],
   "source": [
    "import openeo"
   ]
  },
  {
   "cell_type": "code",
   "execution_count": null,
   "metadata": {},
   "outputs": [],
   "source": [
    "backend = \"https://openeo.eodc.eu/openeo/1.1.0/\"\n",
    "conn = openeo.connect(backend)"
   ]
  },
  {
   "cell_type": "code",
   "execution_count": null,
   "metadata": {},
   "outputs": [],
   "source": [
    "conn = conn.authenticate_oidc(provider_id=\"egi\")"
   ]
  },
  {
   "cell_type": "code",
   "execution_count": null,
   "metadata": {},
   "outputs": [],
   "source": [
    "spatial_extent  = {\n",
    "          \"west\": 11.999541098288413,\n",
    "          \"east\": 13.194973119350859,\n",
    "          \"south\": 43.720000068239756,\n",
    "          \"north\": 44.55888673148277\n",
    "        }\n",
    "\n",
    "temporal_extent = [\n",
    "          \"2021-10-01\",\n",
    "          \"2021-10-07\"\n",
    "        ]\n",
    "\n",
    "collection      = \"SENTINEL1_GRD\"\n",
    "bands           = [\"VV\",\"VH\"]\n",
    "\n",
    "s1_datacube = conn.load_collection(\n",
    "    collection,\n",
    "    spatial_extent=spatial_extent,\n",
    "    bands=bands,\n",
    "    temporal_extent=temporal_extent\n",
    ")"
   ]
  },
  {
   "cell_type": "code",
   "execution_count": null,
   "metadata": {},
   "outputs": [],
   "source": [
    "vessel_detection = s1_datacube.process(str(\"vessel_detection\"), {\"data\": s1_datacube})"
   ]
  },
  {
   "cell_type": "code",
   "execution_count": null,
   "metadata": {},
   "outputs": [],
   "source": [
    "# Create and trigger job.\n",
    "job = vessel_detection.create_job(title = \"UC2-Vessel-Detection\")\n",
    "jobIdDetection = job.job_id\n",
    "job.start_job()"
   ]
  },
  {
   "cell_type": "code",
   "execution_count": null,
   "metadata": {},
   "outputs": [],
   "source": [
    "# Periodically check status until it has finished.\n",
    "job.status()"
   ]
  },
  {
   "cell_type": "markdown",
   "metadata": {},
   "source": [
    "## Result Visualisation to follow"
   ]
  }
 ],
 "metadata": {
  "language_info": {
   "name": "python"
  }
 },
 "nbformat": 4,
 "nbformat_minor": 2
}

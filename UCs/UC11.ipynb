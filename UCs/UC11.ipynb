{
 "cells": [
  {
   "cell_type": "markdown",
   "id": "c72c1c8b",
   "metadata": {},
   "source": [
    "# openEO use case for floods"
   ]
  },
  {
   "cell_type": "markdown",
   "id": "e2e357d6",
   "metadata": {},
   "source": [
    "### Connect and authenticate to openEO"
   ]
  },
  {
   "cell_type": "code",
   "execution_count": null,
   "id": "6d2bfe91-4b9d-4a3c-8333-249a22a621e5",
   "metadata": {},
   "outputs": [],
   "source": [
    "import openeo\n",
    "from openeo.processes import *\n",
    "\n",
    "# backend = \"openeo.cloud\"\n",
    "backend = \"https://openeo-dev.eodc.eu/openeo/1.1.0/\"\n",
    "conn = openeo.connect(backend)\n",
    "conn = conn.authenticate_oidc()"
   ]
  },
  {
   "cell_type": "markdown",
   "id": "e62b532d",
   "metadata": {},
   "source": [
    "### Describe the GFM collection"
   ]
  },
  {
   "cell_type": "code",
   "execution_count": null,
   "id": "62f29598-054f-48ff-917f-1ece2b2bfb19",
   "metadata": {},
   "outputs": [],
   "source": [
    "conn.describe_collection(\"GFM\")"
   ]
  },
  {
   "cell_type": "markdown",
   "id": "4009416e",
   "metadata": {},
   "source": [
    "### Sum of flooded_pixel over time"
   ]
  },
  {
   "cell_type": "code",
   "execution_count": null,
   "id": "305fcdf8-6be6-4946-afdd-50d1b1881afd",
   "metadata": {},
   "outputs": [],
   "source": [
    "spatial_extent  = {'west': 67.5, 'east': 70, 'south': 24.5, 'north': 26}\n",
    "temporal_extent = [\"2022-09-01\", \"2022-10-01\"] \n",
    "collection      = 'GFM'\n",
    "\n",
    "gfm_data = conn.load_collection(\n",
    "    collection, \n",
    "    spatial_extent=spatial_extent, \n",
    "    temporal_extent=temporal_extent, \n",
    "    bands = [\"flood_extent\"]\n",
    ")\n",
    "gfm_sum = gfm_data.reduce_dimension(dimension=\"time\", reducer=sum)\n",
    "\n",
    "gfm_sum_tiff = gfm_sum.save_result(format=\"GTiff\", options={\"tile_grid\": \"equi7\", \"dtype\": \"int16\"})"
   ]
  },
  {
   "cell_type": "code",
   "execution_count": null,
   "id": "8814fced-d0ed-4587-a588-22fa9a6e2abd",
   "metadata": {},
   "outputs": [],
   "source": [
    "job = gfm_sum_tiff.create_job(title = \"UC11\")\n",
    "jobId = job.job_id\n",
    "job.start_job()"
   ]
  },
  {
   "cell_type": "code",
   "execution_count": null,
   "id": "f1114236-37c6-4670-8ae2-b1ee796f439f",
   "metadata": {},
   "outputs": [],
   "source": [
    "job.status()"
   ]
  },
  {
   "cell_type": "code",
   "execution_count": null,
   "id": "746598b4-85ac-4117-a769-9b73a297b92c",
   "metadata": {},
   "outputs": [],
   "source": [
    "results = job.get_results()\n",
    "metadata = results.get_metadata()\n",
    "results.download_files(\"./gfm/flood_extent/\")"
   ]
  },
  {
   "cell_type": "code",
   "execution_count": null,
   "id": "50620bfd-2b32-497c-8f74-7c3a62676594",
   "metadata": {},
   "outputs": [],
   "source": [
    "# really basic test to see if the results are actually as expected\n",
    "import os\n",
    "import xarray as xr\n",
    "import matplotlib.pyplot as plt\n",
    "\n",
    "path = \"./gfm/flood_extent/\"\n",
    "files = [path + file for file in os.listdir(path) if file.startswith(\"AS020\") and \"20220901\" in file]\n",
    "D = xr.open_mfdataset(files)\n",
    "d = D.flood_extent\n",
    "print(\"Maximum value: \", d.max().values)\n",
    "print(\"Minimum value: \", d.min().values)\n",
    "display(d)\n",
    "plt.figure(figsize=(10,5))\n",
    "plt.title(f\"Flood extent\")\n",
    "# only plot a part of the data\n",
    "plt.imshow(d[5000:6000,5000:6000], cmap=\"Blues\")\n",
    "plt.colorbar()"
   ]
  },
  {
   "cell_type": "markdown",
   "id": "be65bf20",
   "metadata": {},
   "source": [
    "### Reference water mask reduced over time"
   ]
  },
  {
   "cell_type": "code",
   "execution_count": null,
   "id": "3a505c6f-373b-4375-9fbd-7e947c8db103",
   "metadata": {},
   "outputs": [],
   "source": [
    "spatial_extent  = {'west': 67.5, 'east': 70, 'south': 24.5, 'north': 26}\n",
    "temporal_extent = [\"2022-09-01\", \"2022-10-01\"] \n",
    "collection      = 'GFM'\n",
    "\n",
    "gfm_data = conn.load_collection(\n",
    "    collection, \n",
    "    spatial_extent=spatial_extent, \n",
    "    temporal_extent=temporal_extent, \n",
    "    bands = [\"refwater\"]\n",
    ")\n",
    "gfm_sum = gfm_data.reduce_dimension(dimension=\"time\", reducer=any)\n",
    "\n",
    "gfm_sum_nc = gfm_sum.save_result(format=\"NetCDF\", options={\"tile_grid\": \"equi7\", \"dtype\": \"int16\"}) "
   ]
  },
  {
   "cell_type": "code",
   "execution_count": null,
   "id": "309f0bb1-34e3-4bc7-9950-58f4aa951d94",
   "metadata": {},
   "outputs": [],
   "source": [
    "job = gfm_sum_nc.create_job(title = \"UC11\")\n",
    "jobId = job.job_id\n",
    "job.start_job()"
   ]
  },
  {
   "cell_type": "code",
   "execution_count": null,
   "id": "35c0178f-0085-459d-a1df-e629b0ae7ed6",
   "metadata": {},
   "outputs": [],
   "source": [
    "job.status()"
   ]
  },
  {
   "cell_type": "code",
   "execution_count": null,
   "id": "a9af962a-8f9f-47a3-8754-8fe8fb3291f7",
   "metadata": {},
   "outputs": [],
   "source": [
    "results = job.get_results()\n",
    "metadata = results.get_metadata()\n",
    "results.download_files(\"./gfm/refwater/\")"
   ]
  },
  {
   "cell_type": "code",
   "execution_count": null,
   "id": "05640ea5-4afb-493b-bcca-df4fdfc8cf0d",
   "metadata": {},
   "outputs": [],
   "source": [
    "import os\n",
    "import xarray as xr\n",
    "import matplotlib.pyplot as plt\n",
    "\n",
    "path = \"./gfm/refwater/\"\n",
    "files = [path + file for file in os.listdir(path) if file.startswith(\"AS\") and \"20220901\" in file]\n",
    "D = xr.open_mfdataset(files)\n",
    "d = D.refwater\n",
    "display(d)\n",
    "plt.figure(figsize=(10,5))\n",
    "plt.title(f\"Refwater\")\n",
    "# only plot a part of the data\n",
    "plt.imshow(d[5000:6000,5000:6000], cmap=\"Blues\")\n",
    "plt.colorbar()"
   ]
  },
  {
   "cell_type": "markdown",
   "id": "798893ba",
   "metadata": {},
   "source": [
    "### Observed water (flood_extent + refwater)"
   ]
  },
  {
   "cell_type": "code",
   "execution_count": null,
   "id": "af9f0b8a-6fcf-409f-8954-a92c1863f9f8",
   "metadata": {},
   "outputs": [],
   "source": [
    "spatial_extent  = {'west': 67.5, 'east': 70, 'south': 24.5, 'north': 26}\n",
    "temporal_extent = [\"2022-09-01\", \"2022-10-01\"] \n",
    "collection      = 'GFM'\n",
    "\n",
    "gfm_data = conn.load_collection(\n",
    "    collection, \n",
    "    spatial_extent=spatial_extent, \n",
    "    temporal_extent=temporal_extent, \n",
    "    bands = [\"flood_extent\", \"refwater\"]\n",
    ")\n",
    "\n",
    "# retrieve all pixels which have been detected as water during the given period\n",
    "# -> observed water\n",
    "observed_water = gfm_data.reduce_dimension(dimension=\"bands\", reducer=any).reduce_dimension(dimension=\"time\", reducer=any)\n",
    "\n",
    "# Save the result in Equi7Grid and as GeoTiff\n",
    "observed_water_tif = observed_water.save_result(format=\"GTiff\", options={\"tile_grid\": \"equi7\", \"dtype\": \"int16\"})"
   ]
  },
  {
   "cell_type": "code",
   "execution_count": null,
   "id": "0a393ed9-3240-4098-9d34-f88f5f75ebe9",
   "metadata": {},
   "outputs": [],
   "source": [
    "job = gfm_sum_nc.create_job(title = \"UC11\")\n",
    "jobId = job.job_id\n",
    "job.start_job()"
   ]
  },
  {
   "cell_type": "code",
   "execution_count": null,
   "id": "798fc05e-bb84-4aa9-bfbd-0210a172c214",
   "metadata": {},
   "outputs": [],
   "source": [
    "job.status()"
   ]
  },
  {
   "cell_type": "code",
   "execution_count": null,
   "id": "22e263c5-541d-4bf9-a001-d142e14b0491",
   "metadata": {},
   "outputs": [],
   "source": [
    "results = job.get_results()\n",
    "metadata = results.get_metadata()\n",
    "results.download_files(\"./gfm/observed_water/\")"
   ]
  },
  {
   "cell_type": "code",
   "execution_count": null,
   "id": "4582748e-e274-496e-a843-b820f9d456ee",
   "metadata": {},
   "outputs": [],
   "source": [
    "import os\n",
    "import xarray as xr\n",
    "import matplotlib.pyplot as plt\n",
    "\n",
    "path = \"./gfm/observed_flood/\"\n",
    "files = [path + file for file in os.listdir(path) if file.startswith(\"AS\") and file.endswith(\".tif\")]\n",
    "# we expect only 0 and 1 -> bool\n",
    "data = xr.open_mfdataset(files).astype(\"bool\")\n",
    "d = data.band_data\n",
    "display(d)\n",
    "plt.figure(figsize=(10,5))\n",
    "plt.title(\"Observed water\")\n",
    "plt.imshow(d[0][5000:6000,5000:6000], cmap=\"Blues\")\n",
    "plt.colorbar()"
   ]
  }
 ],
 "metadata": {
  "kernelspec": {
   "display_name": "openEO Python Client",
   "language": "python",
   "name": "python3"
  },
  "language_info": {
   "codemirror_mode": {
    "name": "ipython",
    "version": 3
   },
   "file_extension": ".py",
   "mimetype": "text/x-python",
   "name": "python",
   "nbconvert_exporter": "python",
   "pygments_lexer": "ipython3",
   "version": "3.9.6"
  }
 },
 "nbformat": 4,
 "nbformat_minor": 5
}

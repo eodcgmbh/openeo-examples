{
 "cells": [
  {
   "cell_type": "markdown",
   "metadata": {},
   "source": [
    "# UC15 Crop Conditions - sen2like processing\n",
    "\n",
    "OpenEO provides the option to run the sen2like processor on Sentinel 2 and Landsat 8 & 9 data to produce L2F data for the requested spatio-temporal extent. The backend takes care of getting the required input data and the computational resources to run sen2like on. \n",
    "\n",
    "Based on the resulting L2F product, multiple indices can be computed, such as the NDVI and LAI. This is done in a separate follow-up notebook (UC15-indices.ipynb).\n",
    "\n",
    "To start the sen2like openEO processing, we first connect to the openEO backend."
   ]
  },
  {
   "cell_type": "code",
   "execution_count": 1,
   "metadata": {},
   "outputs": [
    {
     "name": "stdout",
     "output_type": "stream",
     "text": [
      "Authenticated using refresh token.\n"
     ]
    }
   ],
   "source": [
    "import openeo\n",
    "from openeo.rest.datacube import THIS\n",
    "\n",
    "conn = openeo.connect(\"openeo-dev.eodc.eu/openeo/1.1.0/\").authenticate_oidc()"
   ]
  },
  {
   "cell_type": "markdown",
   "metadata": {},
   "source": [
    "We select the \"SENTINEL2_L1C\" collection, specify the spatial and temporal extent and the bands to compute. The sen2like processing automatically includes the Landsat 8 & 9 data into the computation, so we do not need to call it explicitely. The processing also automatically includes other additional data, such as the digital elevation model and data from the Copernicus Atmosphere Monitoring Service."
   ]
  },
  {
   "cell_type": "code",
   "execution_count": 2,
   "metadata": {},
   "outputs": [],
   "source": [
    "spatial_extent = {\"west\": 16.3, \"east\": 16.5, \"south\": 48.6, \"north\": 48.7}\n",
    "temporal_extent = [\"2023-06-01\", \"2023-09-30\"]\n",
    "\n",
    "collection      = 'SENTINEL2_L1C'\n",
    "bands = [\"B02\", \"B03\", \"B04\", \"B05\", \"B06\", \"B07\", \"B08\", \"B8A\", \"B11\", \"B12\"]\n",
    "\n",
    "S2 = conn.load_collection(\n",
    "    collection, \n",
    "    spatial_extent=spatial_extent, \n",
    "    temporal_extent=temporal_extent, \n",
    "    bands=bands)"
   ]
  },
  {
   "cell_type": "markdown",
   "metadata": {},
   "source": [
    "When applying the sen2like processing, we specify the \"L2F\" product and we set the \"export_original_files\" parameter to True. \n",
    "\n",
    "The cloud_cover can be between 1 and 100. The lower the value, the lower the cloud cover for the files - files with higher cloud cover are ignored."
   ]
  },
  {
   "cell_type": "code",
   "execution_count": 3,
   "metadata": {},
   "outputs": [],
   "source": [
    "sen2like = S2.process('sen2like', {\n",
    "    'data': THIS,\n",
    "    'target_product': 'L2F', \n",
    "    'export_original_files': True,\n",
    "    'cloud_cover': 50})"
   ]
  },
  {
   "cell_type": "markdown",
   "metadata": {},
   "source": [
    "We create and start the openEO job."
   ]
  },
  {
   "cell_type": "code",
   "execution_count": 4,
   "metadata": {},
   "outputs": [
    {
     "name": "stderr",
     "output_type": "stream",
     "text": [
      "Preflight process graph validation raised: [404] Load call not available for SENTINEL2_L1C\n"
     ]
    }
   ],
   "source": [
    "job = sen2like.create_job().start_job()"
   ]
  },
  {
   "cell_type": "code",
   "execution_count": 5,
   "metadata": {},
   "outputs": [
    {
     "data": {
      "text/html": [
       "\n",
       "    <script>\n",
       "    if (!window.customElements || !window.customElements.get('openeo-job')) {\n",
       "        var el = document.createElement('script');\n",
       "        el.src = \"https://cdn.jsdelivr.net/npm/@openeo/vue-components@2/assets/openeo.min.js\";\n",
       "        document.head.appendChild(el);\n",
       "\n",
       "        var font = document.createElement('font');\n",
       "        font.as = \"font\";\n",
       "        font.type = \"font/woff2\";\n",
       "        font.crossOrigin = true;\n",
       "        font.href = \"https://use.fontawesome.com/releases/v5.13.0/webfonts/fa-solid-900.woff2\"\n",
       "        document.head.appendChild(font);\n",
       "    }\n",
       "    </script>\n",
       "    <openeo-job>\n",
       "        <script type=\"application/json\">{\"currency\": \"credits\", \"job\": {\"id\": \"685d7e0e-c652-4cec-a33e-28af61cbcfb8\", \"process\": {\"id\": \"819FB16E3D6D4419\", \"process_graph\": {\"loadcollection1\": {\"process_id\": \"load_collection\", \"arguments\": {\"bands\": [\"B02\", \"B03\", \"B04\", \"B05\", \"B06\", \"B07\", \"B8A\", \"B11\", \"B12\"], \"id\": \"SENTINEL2_L1C\", \"spatial_extent\": {\"west\": 16.3, \"east\": 16.5, \"south\": 48.6, \"north\": 48.7}, \"temporal_extent\": [\"2023-06-01\", \"2023-09-30\"]}}, \"sen2like1\": {\"process_id\": \"sen2like\", \"arguments\": {\"cloud_cover\": 50, \"data\": {\"from_node\": \"loadcollection1\"}, \"export_original_files\": true, \"target_product\": \"L2F\"}}, \"saveresult1\": {\"process_id\": \"save_result\", \"arguments\": {\"data\": {\"from_node\": \"sen2like1\"}, \"format\": \"GTiff\", \"options\": {}}, \"result\": true}}}, \"status\": \"queued\", \"created\": \"2024-05-27T06:52:40Z\"}}</script>\n",
       "    </openeo-job>\n",
       "    "
      ],
      "text/plain": [
       "<BatchJob job_id='685d7e0e-c652-4cec-a33e-28af61cbcfb8'>"
      ]
     },
     "execution_count": 5,
     "metadata": {},
     "output_type": "execute_result"
    }
   ],
   "source": [
    "job"
   ]
  },
  {
   "cell_type": "markdown",
   "metadata": {},
   "source": [
    "Once the job status is \"finished\", we can download and explore the results. \n",
    "\n",
    "We reuse the results in the \"UC15-indices.ipynb\", so we need to know the job id from this notebook. For this run it is \"685d7e0e-c652-4cec-a33e-28af61cbcfb8\"."
   ]
  },
  {
   "cell_type": "code",
   "execution_count": null,
   "metadata": {},
   "outputs": [],
   "source": [
    "results = job.get_results().download_files(\"sen2like_outputs\")"
   ]
  },
  {
   "cell_type": "markdown",
   "metadata": {},
   "source": [
    "#### Explore the openEO results - Create RGB imagery"
   ]
  },
  {
   "cell_type": "code",
   "execution_count": null,
   "metadata": {},
   "outputs": [],
   "source": [
    "import numpy as np \n",
    "import xarray as xr\n",
    "import matplotlib.pyplot as plt"
   ]
  },
  {
   "cell_type": "code",
   "execution_count": null,
   "metadata": {},
   "outputs": [],
   "source": [
    "data = xr.open_mfdataset(\"EU010M_E051N014T1_20230930T000000.nc\")\n",
    "\n",
    "data"
   ]
  },
  {
   "cell_type": "code",
   "execution_count": null,
   "metadata": {},
   "outputs": [],
   "source": [
    "brg = np.zeros((data.B04.shape[0],data.B04.shape[1],3))\n",
    "brg[:,:,0] = (data.B04.values+1)/15\n",
    "brg[:,:,1] = (data.B03.values+1)/14\n",
    "brg[:,:,2] = (data.B02.values+1)/11.6\n",
    "brg = np.clip(brg,0,255).astype(np.uint8)\n",
    "\n",
    "plt.figure(figsize=(8,12))\n",
    "plt.title(\"RGB sen2like, Austria 2023\")\n",
    "plt.imshow(brg,cmap='brg')"
   ]
  },
  {
   "cell_type": "markdown",
   "metadata": {},
   "source": [
    "#### Running UDPs in the webeditor\n",
    "\n",
    "There is an option, to run the sen2like processor in the openEO webeditor as a UDP: https://editor.openeo.org/?server=https%3A%2F%2Fopeneo.eodc.eu%2Fopeneo%2F1.1.0&wizard=UDP&wizard%7Eprocess=sen2like_original_outputs \n",
    "\n",
    "In the openEO wizard, the UDP sen2like_original_outputs can be seleted, where we only need to specify the \"spatial_extent\", \"temporal_extent\" and \"bands\".\n",
    "\n",
    "<img src=\"../udp-1.png\" width=\"1200\"/>"
   ]
  },
  {
   "cell_type": "code",
   "execution_count": null,
   "metadata": {},
   "outputs": [],
   "source": []
  }
 ],
 "metadata": {
  "kernelspec": {
   "display_name": "openeo-examples-bicaU3O8-py3.11",
   "language": "python",
   "name": "python3"
  },
  "language_info": {
   "codemirror_mode": {
    "name": "ipython",
    "version": 3
   },
   "file_extension": ".py",
   "mimetype": "text/x-python",
   "name": "python",
   "nbconvert_exporter": "python",
   "pygments_lexer": "ipython3",
   "version": "3.11.0"
  }
 },
 "nbformat": 4,
 "nbformat_minor": 2
}

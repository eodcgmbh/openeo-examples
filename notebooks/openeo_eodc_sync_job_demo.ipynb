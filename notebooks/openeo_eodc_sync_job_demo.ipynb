{
 "cells": [
  {
   "cell_type": "markdown",
   "metadata": {},
   "source": [
    "## EODC Backend Sync Job Demonstration\n",
    "\n",
    "This notebook contains the minimum code to run a sync job on the EODC backend. \n",
    "It is intended to demonstrate that the sync job functionality is enabled and working.\n"
   ]
  },
  {
   "cell_type": "code",
   "execution_count": 7,
   "metadata": {},
   "outputs": [],
   "source": [
    "# import the openeo python client\n",
    "import openeo"
   ]
  },
  {
   "cell_type": "code",
   "execution_count": 9,
   "metadata": {},
   "outputs": [
    {
     "data": {
      "text/html": [
       "Visit <a href=\"https://aai.egi.eu/device?user_code=RNWJ-VZJI\" title=\"Authenticate at https://aai.egi.eu/device?user_code=RNWJ-VZJI\" target=\"_blank\" rel=\"noopener noreferrer\">https://aai.egi.eu/device?user_code=RNWJ-VZJI</a> <a href=\"#\" onclick=\"navigator.clipboard.writeText('https://aai.egi.eu/device?user_code=RNWJ-VZJI');return false;\" title=\"Copy authentication URL to clipboard\">&#128203;</a> to authenticate."
      ]
     },
     "metadata": {},
     "output_type": "display_data"
    },
    {
     "data": {
      "text/html": [
       "<code>[###################################--]</code> ✅ Authorized successfully"
      ]
     },
     "metadata": {},
     "output_type": "display_data"
    },
    {
     "name": "stdout",
     "output_type": "stream",
     "text": [
      "Authenticated using device code flow.\n"
     ]
    }
   ],
   "source": [
    "# create a connection and authenticate with oidc\n",
    "connection = openeo.connect(\"openeo-dev.eodc.eu\").authenticate_oidc()"
   ]
  },
  {
   "cell_type": "code",
   "execution_count": 10,
   "metadata": {},
   "outputs": [],
   "source": [
    "# call load_collection with a small spatial extent and temporal extent\n",
    "data = connection.load_collection(\n",
    "    \"boa_sentinel_2\", \n",
    "    bands=[\"B02\", \"B03\"],\n",
    "    spatial_extent={\"west\": 11.5, \"east\": 11.51, \"south\": 47, \"north\": 47.01}, \n",
    "    temporal_extent=[\"2018-09-01\", \"2018-09-30\"]\n",
    ")"
   ]
  },
  {
   "cell_type": "code",
   "execution_count": 12,
   "metadata": {},
   "outputs": [
    {
     "name": "stderr",
     "output_type": "stream",
     "text": [
      "Preflight process graph validation raised: [404] Load call not available for boa_sentinel_2\n"
     ]
    }
   ],
   "source": [
    "# start the sync job with the download method, the results will be saved as a tar file (data.tar) as per the specification for multiple files.\n",
    "data.download(\"data.tar\", format=\"GTIFF\")"
   ]
  }
 ],
 "metadata": {
  "kernelspec": {
   "display_name": ".venv",
   "language": "python",
   "name": "python3"
  },
  "language_info": {
   "codemirror_mode": {
    "name": "ipython",
    "version": 3
   },
   "file_extension": ".py",
   "mimetype": "text/x-python",
   "name": "python",
   "nbconvert_exporter": "python",
   "pygments_lexer": "ipython3",
   "version": "3.10.12"
  }
 },
 "nbformat": 4,
 "nbformat_minor": 2
}

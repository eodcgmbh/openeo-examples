{
 "cells": [
  {
   "cell_type": "markdown",
   "metadata": {},
   "source": [
    "## EODC Backend Sync Job Demonstration\n",
    "\n",
    "This notebook contains the minimum code to run a sync job on the EODC backend. \n",
    "It is intended to demonstrate that the sync job functionality is enabled and working.\n"
   ]
  },
  {
   "cell_type": "code",
   "execution_count": null,
   "metadata": {},
   "outputs": [],
   "source": [
    "# import the openeo python client\n",
    "import openeo"
   ]
  },
  {
   "cell_type": "code",
   "execution_count": null,
   "metadata": {},
   "outputs": [],
   "source": [
    "# create a connection and authenticate with oidc\n",
    "connection = openeo.connect(\"openeo-dev.eodc.eu\").authenticate_oidc()"
   ]
  },
  {
   "cell_type": "code",
   "execution_count": null,
   "metadata": {},
   "outputs": [],
   "source": [
    "# call load_collection with a small spatial extent and temporal extent\n",
    "data = connection.load_collection(\n",
    "    \"boa_sentinel_2\", \n",
    "    bands=[\"B02\", \"B03\"],\n",
    "    spatial_extent={\"west\": 11.5, \"east\": 11.51, \"south\": 47, \"north\": 47.01}, \n",
    "    temporal_extent=[\"2018-09-01\", \"2018-09-30\"]\n",
    ")"
   ]
  },
  {
   "cell_type": "code",
   "execution_count": null,
   "metadata": {},
   "outputs": [],
   "source": [
    "# start the sync job with the download method, the results will be saved as a tar file (data.tar) as per the specification for multiple files.\n",
    "data.download(\"data.tar\", format=\"GTIFF\")"
   ]
  }
 ],
 "metadata": {
  "kernelspec": {
   "display_name": ".venv",
   "language": "python",
   "name": "python3"
  },
  "language_info": {
   "codemirror_mode": {
    "name": "ipython",
    "version": 3
   },
   "file_extension": ".py",
   "mimetype": "text/x-python",
   "name": "python",
   "nbconvert_exporter": "python",
   "pygments_lexer": "ipython3",
   "version": "3.10.12"
  }
 },
 "nbformat": 4,
 "nbformat_minor": 2
}
